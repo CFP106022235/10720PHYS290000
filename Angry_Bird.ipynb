{
 "cells": [
  {
   "cell_type": "code",
   "execution_count": 1,
   "metadata": {},
   "outputs": [
    {
     "name": "stdout",
     "output_type": "stream",
     "text": [
      "[[690.0615213397982, 59.22772157155309], [73.94790639391414, 464.6872430732943], [1317.932654340509, 715.1749899992542], [582.9714136308824, 467.6481174620548], [731.2943537523774, 986.1745998562986]]\n"
     ]
    },
    {
     "data": {
      "text/plain": [
       "<Figure size 640x480 with 1 Axes>"
      ]
     },
     "metadata": {},
     "output_type": "display_data"
    },
    {
     "name": "stdout",
     "output_type": "stream",
     "text": [
      "Try again!\n"
     ]
    }
   ],
   "source": [
    "import math\n",
    "import numpy as np\n",
    "import matplotlib.pyplot as plt\n",
    "Px=np.random.random(5)*2000 #pigs x location\n",
    "Py=np.random.random(5)*1000 #pigs y location\n",
    "Pig_location=[[Px[0],Py[0]],[Px[1],Py[1]],[Px[2],Py[2]],[Px[3],Py[3]],[Px[4],Py[4]]]\n",
    "print(Pig_location)\n",
    "plt.xlim(0,2000)\n",
    "plt.ylim(0,1000)\n",
    "plt.plot(Px,Py,\"o\")\n",
    "\n",
    "#v=velocity;o=angle\n",
    "v=150\n",
    "o=np.pi/8\n",
    "g=9.8 #重力常數\n",
    "t=np.linspace(0,2*(v*math.sin(o)/g),99999)\n",
    "Ox=v*math.cos(o)*t\n",
    "Oy=v*math.sin(o)*t-(g*t**2/2)\n",
    "plt.xlim(0,2000)\n",
    "plt.ylim(0,1000)\n",
    "plt.plot(Ox,Oy)\n",
    "plt.show()\n",
    "\n",
    "pig_size=4\n",
    "distance1=(Ox-Px[0])**2+(Oy-Py[0])**2\n",
    "distance2=(Ox-Px[1])**2+(Oy-Py[1])**2\n",
    "distance3=(Ox-Px[2])**2+(Oy-Py[2])**2\n",
    "distance4=(Ox-Px[3])**2+(Oy-Py[3])**2\n",
    "distance5=(Ox-Px[4])**2+(Oy-Py[4])**2\n",
    "distance_new1=pow(distance1,0.5)\n",
    "distance_new2=pow(distance2,0.5)\n",
    "distance_new3=pow(distance3,0.5)\n",
    "distance_new4=pow(distance4,0.5)\n",
    "distance_new5=pow(distance5,0.5)\n",
    "hit=distance_new1[distance_new1<pig_size]+distance_new2[distance_new2<pig_size]+distance_new3[distance_new3<pig_size]+distance_new4[distance_new4<pig_size]+distance_new5[distance_new5<pig_size]\n",
    "if np.shape(hit)[0]>0:\n",
    "    print('You hit a pig!')\n",
    "else:\n",
    "    print('Try again!')"
   ]
  },
  {
   "cell_type": "code",
   "execution_count": null,
   "metadata": {},
   "outputs": [],
   "source": []
  }
 ],
 "metadata": {
  "kernelspec": {
   "display_name": "Python 3",
   "language": "python",
   "name": "python3"
  },
  "language_info": {
   "codemirror_mode": {
    "name": "ipython",
    "version": 3
   },
   "file_extension": ".py",
   "mimetype": "text/x-python",
   "name": "python",
   "nbconvert_exporter": "python",
   "pygments_lexer": "ipython3",
   "version": "3.7.1"
  }
 },
 "nbformat": 4,
 "nbformat_minor": 2
}
