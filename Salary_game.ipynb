{
 "cells": [
  {
   "cell_type": "code",
   "execution_count": 3,
   "metadata": {},
   "outputs": [
    {
     "name": "stdin",
     "output_type": "stream",
     "text": [
      "total number of the students:n 500\n",
      "money for start:m 500\n",
      "the total rounds that game be played:k 30\n",
      "the money that loser had to pay:dm 50\n"
     ]
    },
    {
     "data": {
      "image/png": "[encoded data removed]",
      "text/plain": [
       "<Figure size 432x288 with 1 Axes>"
      ]
     },
     "metadata": {
      "needs_background": "light"
     },
     "output_type": "display_data"
    }
   ],
   "source": [
    "import numpy as np\n",
    "import matplotlib.pyplot as plt\n",
    "student_number=int(input('total number of the students:n'))\n",
    "initial_money=int(input('money for start:m'))\n",
    "rounds=int(input('the total rounds that game be played:k'))\n",
    "dm=int(input('the money that loser had to pay:dm'))\n",
    "money_array=[] #to show every player's money\n",
    "for i in range(0,student_number):\n",
    "    money_array.append(initial_money)\n",
    "\n",
    "for a in range(0,rounds): #game start\n",
    "    players=student_number\n",
    "    if players==1:\n",
    "        break\n",
    "    else:\n",
    "        for b in range(0,len(money_array)): #if money<=0,quit the game\n",
    "            if money_array[b] <=0:\n",
    "                players=palyers-1\n",
    "        money_array=sorted(money_array,reverse=True) #ensure the chosen one still has the qualify\n",
    "        player_1=np.random.randint(0,players)\n",
    "        player_2=np.random.randint(0,players) #choose player\n",
    "        while player_1==player_2:\n",
    "            player_2=np.random.randint(0,players) #avoid same player\n",
    "        result=np.random.randint(0,3) #0=tie,1=p1 win,2=p2 win\n",
    "        if result==1:\n",
    "            money_array[player_1]=money_array[player_1]+dm\n",
    "            money_array[player_2]=money_array[player_2]-dm\n",
    "        elif result==2:\n",
    "            money_array[player_1]=money_array[player_1]-dm\n",
    "            money_array[player_2]=money_array[player_2]+dm\n",
    "        else:\n",
    "            continue\n",
    "money_array=sorted(money_array,reverse=True)\n",
    "plt.ylabel('Numbers of students')\n",
    "plt.xlabel('Money')\n",
    "plt.hist(money_array)\n",
    "plt.show()"
   ]
  },
  {
   "cell_type": "code",
   "execution_count": null,
   "metadata": {},
   "outputs": [],
   "source": []
  }
 ],
 "metadata": {
  "kernelspec": {
   "display_name": "Python 3",
   "language": "python",
   "name": "python3"
  },
  "language_info": {
   "codemirror_mode": {
    "name": "ipython",
    "version": 3
   },
   "file_extension": ".py",
   "mimetype": "text/x-python",
   "name": "python",
   "nbconvert_exporter": "python",
   "pygments_lexer": "ipython3",
   "version": "3.7.1"
  }
 },
 "nbformat": 4,
 "nbformat_minor": 2
}
